{
 "cells": [
  {
   "cell_type": "markdown",
   "id": "db3c20cb",
   "metadata": {},
   "source": [
    "# 1. Installing OpenCV"
   ]
  },
  {
   "cell_type": "code",
   "execution_count": 1,
   "id": "a12821d7",
   "metadata": {},
   "outputs": [
    {
     "name": "stdout",
     "output_type": "stream",
     "text": [
      "Requirement already satisfied: pip in c:\\python310\\lib\\site-packages (22.0.4)\n"
     ]
    }
   ],
   "source": [
    "!pip install --upgrade pip\n"
   ]
  },
  {
   "cell_type": "code",
   "execution_count": 2,
   "id": "d13b516f",
   "metadata": {},
   "outputs": [
    {
     "name": "stdout",
     "output_type": "stream",
     "text": [
      "Collecting opencv-python\n",
      "  Downloading opencv_python-4.5.5.64-cp36-abi3-win_amd64.whl (35.4 MB)\n",
      "     ---------------------------------------- 35.4/35.4 MB 3.3 MB/s eta 0:00:00\n",
      "Requirement already satisfied: numpy>=1.19.3 in c:\\python310\\lib\\site-packages (from opencv-python) (1.22.1)\n",
      "Installing collected packages: opencv-python\n",
      "Successfully installed opencv-python-4.5.5.64\n"
     ]
    }
   ],
   "source": [
    "!pip install opencv-python"
   ]
  },
  {
   "cell_type": "code",
   "execution_count": 3,
   "id": "f43067a3",
   "metadata": {
    "scrolled": true
   },
   "outputs": [
    {
     "name": "stdout",
     "output_type": "stream",
     "text": [
      "Package              Version\n",
      "-------------------- ---------\n",
      "argon2-cffi          21.3.0\n",
      "argon2-cffi-bindings 21.2.0\n",
      "attrs                21.4.0\n",
      "backcall             0.2.0\n",
      "bleach               4.1.0\n",
      "bokeh                2.4.2\n",
      "certifi              2021.10.8\n",
      "cffi                 1.15.0\n",
      "charset-normalizer   2.0.11\n",
      "colorama             0.4.4\n",
      "colorcet             3.0.0\n",
      "cycler               0.11.0\n",
      "debugpy              1.5.1\n",
      "decorator            5.1.0\n",
      "defusedxml           0.7.1\n",
      "entrypoints          0.3\n",
      "fonttools            4.29.1\n",
      "graphviz             0.19.1\n",
      "holoviews            1.14.7\n",
      "hvplot               0.7.3\n",
      "idna                 3.3\n",
      "ipykernel            6.6.0\n",
      "ipython              7.30.1\n",
      "ipython-genutils     0.2.0\n",
      "ipywidgets           7.6.5\n",
      "jedi                 0.18.1\n",
      "Jinja2               3.0.3\n",
      "joblib               1.1.0\n",
      "jsonschema           4.3.3\n",
      "jupyter              1.0.0\n",
      "jupyter-client       7.1.0\n",
      "jupyter-console      6.4.0\n",
      "jupyter-core         4.9.1\n",
      "jupyterlab-pygments  0.1.2\n",
      "jupyterlab-widgets   1.0.2\n",
      "kiwisolver           1.3.2\n",
      "Markdown             3.3.6\n",
      "MarkupSafe           2.0.1\n",
      "matplotlib           3.5.1\n",
      "matplotlib-inline    0.1.3\n",
      "mistune              0.8.4\n",
      "nbclient             0.5.9\n",
      "nbconvert            6.3.0\n",
      "nbformat             5.1.3\n",
      "nest-asyncio         1.5.4\n",
      "notebook             6.4.6\n",
      "numpy                1.22.1\n",
      "opencv-python        4.5.5.64\n",
      "packaging            21.3\n",
      "pandas               1.4.0\n",
      "pandocfilters        1.5.0\n",
      "panel                0.12.6\n",
      "param                1.12.0\n",
      "parso                0.8.3\n",
      "patsy                0.5.2\n",
      "pickleshare          0.7.5\n",
      "Pillow               9.0.1\n",
      "pip                  22.0.4\n",
      "prometheus-client    0.12.0\n",
      "prompt-toolkit       3.0.24\n",
      "pycparser            2.21\n",
      "pyct                 0.4.8\n",
      "pydot                1.4.2\n",
      "Pygments             2.11.1\n",
      "pyparsing            3.0.6\n",
      "pyrsistent           0.18.0\n",
      "python-dateutil      2.8.2\n",
      "pytz                 2021.3\n",
      "pyviz-comms          2.1.0\n",
      "pywin32              303\n",
      "pywinpty             1.1.6\n",
      "PyYAML               6.0\n",
      "pyzmq                22.3.0\n",
      "qtconsole            5.2.2\n",
      "QtPy                 2.0.0\n",
      "requests             2.27.1\n",
      "scikit-learn         1.0.2\n",
      "scipy                1.8.0\n",
      "seaborn              0.11.2\n",
      "Send2Trash           1.8.0\n",
      "setuptools           58.1.0\n",
      "six                  1.16.0\n",
      "sklearn              0.0\n",
      "statsmodels          0.13.2\n",
      "terminado            0.12.1\n",
      "testpath             0.5.0\n",
      "threadpoolctl        3.1.0\n",
      "tornado              6.1\n",
      "tqdm                 4.62.3\n",
      "traitlets            5.1.1\n",
      "typing_extensions    4.0.1\n",
      "urllib3              1.26.8\n",
      "wcwidth              0.2.5\n",
      "webencodings         0.5.1\n",
      "widgetsnbextension   3.5.2\n"
     ]
    }
   ],
   "source": [
    "!pip list\n"
   ]
  },
  {
   "cell_type": "code",
   "execution_count": 4,
   "id": "cf6bf9f6",
   "metadata": {},
   "outputs": [],
   "source": [
    "import cv2"
   ]
  },
  {
   "cell_type": "code",
   "execution_count": null,
   "id": "8c8ac85e",
   "metadata": {},
   "outputs": [],
   "source": [
    "cv2.absdiff #Use tab to get suggestions for different methods/functions present"
   ]
  },
  {
   "cell_type": "code",
   "execution_count": null,
   "id": "7eb13e98",
   "metadata": {},
   "outputs": [],
   "source": []
  },
  {
   "cell_type": "code",
   "execution_count": null,
   "id": "fd7b1f0c",
   "metadata": {},
   "outputs": [],
   "source": []
  },
  {
   "cell_type": "code",
   "execution_count": null,
   "id": "33ba0fdd",
   "metadata": {},
   "outputs": [],
   "source": []
  }
 ],
 "metadata": {
  "kernelspec": {
   "display_name": "Python 3 (ipykernel)",
   "language": "python",
   "name": "python3"
  },
  "language_info": {
   "codemirror_mode": {
    "name": "ipython",
    "version": 3
   },
   "file_extension": ".py",
   "mimetype": "text/x-python",
   "name": "python",
   "nbconvert_exporter": "python",
   "pygments_lexer": "ipython3",
   "version": "3.10.1"
  }
 },
 "nbformat": 4,
 "nbformat_minor": 5
}
